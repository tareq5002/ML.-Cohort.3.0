{
 "cells": [
  {
   "cell_type": "markdown",
   "id": "cbc10e58-5c5d-4a87-a1f6-9ce4e1bd6aa0",
   "metadata": {},
   "source": [
    "**Functions of Numpy: Ones function**"
   ]
  },
  {
   "cell_type": "code",
   "execution_count": 3,
   "id": "5dfd87fc-7fb0-4dad-ae8e-c6adb7f6c2a9",
   "metadata": {},
   "outputs": [
    {
     "name": "stdout",
     "output_type": "stream",
     "text": [
      "[1 1 1 1 1 1]\n"
     ]
    }
   ],
   "source": [
    "import numpy as np\n",
    "\n",
    "a= np.ones(6, dtype = int)\n",
    "print(a)"
   ]
  },
  {
   "cell_type": "markdown",
   "id": "963ffc7c-79ee-4c38-bc0f-8fdeb97fd954",
   "metadata": {},
   "source": [
    "**Zeros function**"
   ]
  },
  {
   "cell_type": "code",
   "execution_count": 4,
   "id": "70408adc-ea0e-4beb-a15f-4f8e54c6fd5c",
   "metadata": {},
   "outputs": [
    {
     "name": "stdout",
     "output_type": "stream",
     "text": [
      "[[0 0 0 0 0 0 0 0]\n",
      " [0 0 0 0 0 0 0 0]\n",
      " [0 0 0 0 0 0 0 0]\n",
      " [0 0 0 0 0 0 0 0]]\n"
     ]
    }
   ],
   "source": [
    "b= np.zeros((4,8), dtype = int)\n",
    "print(b)"
   ]
  },
  {
   "cell_type": "markdown",
   "id": "0d5a1eda-a54a-4a95-8a83-ed5c276363d6",
   "metadata": {},
   "source": [
    "**Arrange  & Reshape function**"
   ]
  },
  {
   "cell_type": "code",
   "execution_count": 16,
   "id": "773f13a7-9ecc-48d2-b55f-dcceaa8a0c33",
   "metadata": {},
   "outputs": [
    {
     "name": "stdout",
     "output_type": "stream",
     "text": [
      "[ 1  2  3  4  5  6  7  8  9 10 11 12 13 14 15 16 17 18 19 20]\n",
      "[[ 1  2  3  4  5]\n",
      " [ 6  7  8  9 10]\n",
      " [11 12 13 14 15]\n",
      " [16 17 18 19 20]]\n"
     ]
    }
   ],
   "source": [
    "a= np.arange(1,21)\n",
    "print(a)\n",
    "\n",
    "b= a.reshape((4,5))\n",
    "print(b)"
   ]
  },
  {
   "cell_type": "markdown",
   "id": "ca1be321-0e5b-4054-aeed-5689264a0d80",
   "metadata": {},
   "source": [
    "**Task**"
   ]
  },
  {
   "cell_type": "code",
   "execution_count": 9,
   "id": "0cd5a94e-b798-4eb1-8c22-dd49a807c115",
   "metadata": {},
   "outputs": [
    {
     "name": "stdout",
     "output_type": "stream",
     "text": [
      "[ 0  1  2  3  4  5  6  7  8  9 10 11 12 13 14 15 16 17]\n",
      "[20 21 22 23 24 25 26 27 28 29 30 31 32 33 34 35 36 37]\n",
      "\n",
      "[[ 0  1  2]\n",
      " [ 3  4  5]\n",
      " [ 6  7  8]\n",
      " [ 9 10 11]\n",
      " [12 13 14]\n",
      " [15 16 17]]\n",
      "\n",
      "[[20 21 22]\n",
      " [23 24 25]\n",
      " [26 27 28]\n",
      " [29 30 31]\n",
      " [32 33 34]\n",
      " [35 36 37]]\n",
      "\n",
      "[[65 72 79]\n",
      " [68 75 82]\n",
      " [71 78 85]\n",
      " [74 81 88]\n",
      " [77 84 91]\n",
      " [80 87 94]]\n"
     ]
    }
   ],
   "source": [
    "import numpy as np\n",
    "\n",
    "##Arrange the array\n",
    "\n",
    "a= np.arange(0,18)\n",
    "b= np.arange(20,38)\n",
    "print(a)\n",
    "print(b)\n",
    "print()\n",
    "##Reshape the array\n",
    "c= a.reshape((6,3))\n",
    "d= b.reshape((6,3))\n",
    "print( c)\n",
    "print()\n",
    "print(d)\n",
    "print()\n",
    "##Addition the reshape array\n",
    "Addition = sum(c,d)\n",
    "print(Addition)"
   ]
  },
  {
   "cell_type": "code",
   "execution_count": 13,
   "id": "873d20f2-7b4b-4e93-9226-148f8d9fb3db",
   "metadata": {},
   "outputs": [
    {
     "name": "stdout",
     "output_type": "stream",
     "text": [
      "   Yes   No\n",
      "0   50  131\n",
      "1   21    2\n"
     ]
    }
   ],
   "source": [
    "import pandas as pd \n",
    "df = pd.DataFrame({'Yes':[50,21], 'No': [131,2]})\n",
    "print(df)"
   ]
  },
  {
   "cell_type": "code",
   "execution_count": null,
   "id": "0488baad-8ddc-4034-a4dc-34085877bda6",
   "metadata": {},
   "outputs": [],
   "source": []
  }
 ],
 "metadata": {
  "kernelspec": {
   "display_name": "Python 3 (ipykernel)",
   "language": "python",
   "name": "python3"
  },
  "language_info": {
   "codemirror_mode": {
    "name": "ipython",
    "version": 3
   },
   "file_extension": ".py",
   "mimetype": "text/x-python",
   "name": "python",
   "nbconvert_exporter": "python",
   "pygments_lexer": "ipython3",
   "version": "3.12.3"
  }
 },
 "nbformat": 4,
 "nbformat_minor": 5
}
