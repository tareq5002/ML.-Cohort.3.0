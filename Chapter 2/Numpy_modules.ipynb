{
 "cells": [
  {
   "cell_type": "markdown",
   "id": "83274b37-310d-46b4-bd1e-fb33d8f42257",
   "metadata": {},
   "source": [
    "**NUmpy Modules**: **1Dimenssion Array**"
   ]
  },
  {
   "cell_type": "code",
   "execution_count": 1,
   "id": "7c705a0d-8df7-4d06-837f-504f4ae9251f",
   "metadata": {},
   "outputs": [
    {
     "name": "stdout",
     "output_type": "stream",
     "text": [
      "1D Array\n",
      "[1 2 3 4 5]\n"
     ]
    }
   ],
   "source": [
    "import numpy as np\n",
    "\n",
    "print('1D Array')\n",
    "\n",
    "a= np.array([1, 2, 3, 4, 5])\n",
    "\n",
    "print(a)"
   ]
  },
  {
   "cell_type": "markdown",
   "id": "54b3ab95-08dc-4d65-9eee-7ec2a5d6ad02",
   "metadata": {},
   "source": [
    "**2D Array**"
   ]
  },
  {
   "cell_type": "code",
   "execution_count": 2,
   "id": "d87e315b-d1ef-4862-9f48-79af0aa73f04",
   "metadata": {},
   "outputs": [
    {
     "name": "stdout",
     "output_type": "stream",
     "text": [
      "2D Array\n",
      "[[ 1  2  3  4  5]\n",
      " [ 6  7  8  9 10]]\n"
     ]
    }
   ],
   "source": [
    "print('2D Array')\n",
    "b= np.array([[1, 2, 3, 4, 5],\n",
    "             [6, 7, 8, 9, 10]])\n",
    "print(b)"
   ]
  },
  {
   "cell_type": "markdown",
   "id": "0f74b047-bd41-4225-9aa0-d448245c5027",
   "metadata": {},
   "source": [
    "**3D Array** "
   ]
  },
  {
   "cell_type": "code",
   "execution_count": 3,
   "id": "52a4c32f-ec87-47d1-8816-cbb4c1ff5837",
   "metadata": {},
   "outputs": [
    {
     "name": "stdout",
     "output_type": "stream",
     "text": [
      "3D Array\n",
      "[[[ 1  2  3  4  5]\n",
      "  [ 6  7  8  9 10]\n",
      "  [11 12 13 14 15]]]\n"
     ]
    }
   ],
   "source": [
    "print('3D Array')\n",
    "c= np.array([[[1, 2, 3, 4, 5],\n",
    "              [6, 7, 8, 9, 10],\n",
    "              [11, 12, 13, 14, 15]]])\n",
    "print(c)"
   ]
  },
  {
   "cell_type": "markdown",
   "id": "94fedfef-5882-457b-a2e9-1c6238d80153",
   "metadata": {},
   "source": [
    "**Size & Shape**"
   ]
  },
  {
   "cell_type": "code",
   "execution_count": 5,
   "id": "5670851a-67dc-4ead-a3a4-3e678756e602",
   "metadata": {},
   "outputs": [
    {
     "name": "stdout",
     "output_type": "stream",
     "text": [
      "5\n",
      "10\n",
      "15\n",
      "(5,)\n",
      "(2, 5)\n",
      "(1, 3, 5)\n"
     ]
    }
   ],
   "source": [
    "print(a.size)\n",
    "print(b.size)\n",
    "print(c.size)\n",
    "\n",
    "print(a.shape)\n",
    "print(b.shape)\n",
    "print(c.shape)"
   ]
  },
  {
   "cell_type": "markdown",
   "id": "f16b0105-ae58-414d-a1ac-c343b3f54eab",
   "metadata": {},
   "source": [
    "**Transpose matrix using Numpy:**"
   ]
  },
  {
   "cell_type": "code",
   "execution_count": 8,
   "id": "21b9ce72-6879-438c-963c-6dc6ff6f3ab9",
   "metadata": {},
   "outputs": [
    {
     "name": "stdout",
     "output_type": "stream",
     "text": [
      "Original matrix:\n",
      "[[10 15 20]\n",
      " [25 30 35]]\n",
      "\n",
      " transposed matrix:\n",
      "[[10 25]\n",
      " [15 30]\n",
      " [20 35]]\n"
     ]
    }
   ],
   "source": [
    "matrix = np.array([[10, 15, 20],\n",
    "              [25, 30, 35]])\n",
    "print(\"Original matrix:\")\n",
    "print(matrix)\n",
    "\n",
    "##for Transpose matrix\n",
    "transposed= m.T\n",
    "print(\"\\n transposed matrix:\")\n",
    "print(transposed)\n"
   ]
  },
  {
   "cell_type": "markdown",
   "id": "c09e4878-60f9-4360-976e-ddc8943672f4",
   "metadata": {},
   "source": [
    "**Addition of 2D matrix:**"
   ]
  },
  {
   "cell_type": "code",
   "execution_count": 10,
   "id": "c1a6ec50-8767-4660-9094-dc9fad9d847d",
   "metadata": {},
   "outputs": [
    {
     "name": "stdout",
     "output_type": "stream",
     "text": [
      "Original Matrix:\n",
      "[[10 15 20]\n",
      " [25 30 35]]\n",
      "\n",
      " addition matrix:\n",
      "[35 45 55]\n"
     ]
    }
   ],
   "source": [
    "matrix = np.array([[10, 15, 20],\n",
    "              [25, 30, 35]])\n",
    "print(\"Original Matrix:\")\n",
    "print(matrix)\n",
    "\n",
    "print(\"\\n addition matrix:\")\n",
    "Addition = sum(matrix)\n",
    "\n",
    "print(Addition)\n"
   ]
  }
 ],
 "metadata": {
  "kernelspec": {
   "display_name": "Python 3 (ipykernel)",
   "language": "python",
   "name": "python3"
  },
  "language_info": {
   "codemirror_mode": {
    "name": "ipython",
    "version": 3
   },
   "file_extension": ".py",
   "mimetype": "text/x-python",
   "name": "python",
   "nbconvert_exporter": "python",
   "pygments_lexer": "ipython3",
   "version": "3.13.1"
  }
 },
 "nbformat": 4,
 "nbformat_minor": 5
}
