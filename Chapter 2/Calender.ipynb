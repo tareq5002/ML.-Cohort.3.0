{
 "cells": [
  {
   "cell_type": "markdown",
   "id": "ae408698-3dfe-498c-b793-64cc3aa1a7ad",
   "metadata": {},
   "source": [
    "Displaying Calendar 2025\n"
   ]
  },
  {
   "cell_type": "code",
   "execution_count": 2,
   "id": "603a9b5a-4088-4cb7-b4a6-2b607f611108",
   "metadata": {},
   "outputs": [
    {
     "name": "stdout",
     "output_type": "stream",
     "text": [
      "                                                       2025\n",
      "\n",
      "             January                                 February                                 March\n",
      "Mon  Tue  Wed  Thu  Fri  Sat  Sun       Mon  Tue  Wed  Thu  Fri  Sat  Sun       Mon  Tue  Wed  Thu  Fri  Sat  Sun\n",
      "            1    2    3    4    5                                  1    2                                  1    2\n",
      "  6    7    8    9   10   11   12         3    4    5    6    7    8    9         3    4    5    6    7    8    9\n",
      " 13   14   15   16   17   18   19        10   11   12   13   14   15   16        10   11   12   13   14   15   16\n",
      " 20   21   22   23   24   25   26        17   18   19   20   21   22   23        17   18   19   20   21   22   23\n",
      " 27   28   29   30   31                  24   25   26   27   28                  24   25   26   27   28   29   30\n",
      "                                                                                 31\n",
      "\n",
      "              April                                    May                                     June\n",
      "Mon  Tue  Wed  Thu  Fri  Sat  Sun       Mon  Tue  Wed  Thu  Fri  Sat  Sun       Mon  Tue  Wed  Thu  Fri  Sat  Sun\n",
      "       1    2    3    4    5    6                        1    2    3    4                                       1\n",
      "  7    8    9   10   11   12   13         5    6    7    8    9   10   11         2    3    4    5    6    7    8\n",
      " 14   15   16   17   18   19   20        12   13   14   15   16   17   18         9   10   11   12   13   14   15\n",
      " 21   22   23   24   25   26   27        19   20   21   22   23   24   25        16   17   18   19   20   21   22\n",
      " 28   29   30                            26   27   28   29   30   31             23   24   25   26   27   28   29\n",
      "                                                                                 30\n",
      "\n",
      "               July                                   August                                September\n",
      "Mon  Tue  Wed  Thu  Fri  Sat  Sun       Mon  Tue  Wed  Thu  Fri  Sat  Sun       Mon  Tue  Wed  Thu  Fri  Sat  Sun\n",
      "       1    2    3    4    5    6                             1    2    3         1    2    3    4    5    6    7\n",
      "  7    8    9   10   11   12   13         4    5    6    7    8    9   10         8    9   10   11   12   13   14\n",
      " 14   15   16   17   18   19   20        11   12   13   14   15   16   17        15   16   17   18   19   20   21\n",
      " 21   22   23   24   25   26   27        18   19   20   21   22   23   24        22   23   24   25   26   27   28\n",
      " 28   29   30   31                       25   26   27   28   29   30   31        29   30\n",
      "\n",
      "             October                                 November                                December\n",
      "Mon  Tue  Wed  Thu  Fri  Sat  Sun       Mon  Tue  Wed  Thu  Fri  Sat  Sun       Mon  Tue  Wed  Thu  Fri  Sat  Sun\n",
      "            1    2    3    4    5                                  1    2         1    2    3    4    5    6    7\n",
      "  6    7    8    9   10   11   12         3    4    5    6    7    8    9         8    9   10   11   12   13   14\n",
      " 13   14   15   16   17   18   19        10   11   12   13   14   15   16        15   16   17   18   19   20   21\n",
      " 20   21   22   23   24   25   26        17   18   19   20   21   22   23        22   23   24   25   26   27   28\n",
      " 27   28   29   30   31                  24   25   26   27   28   29   30        29   30   31\n",
      "\n",
      "Is 2025 a leap year? False\n"
     ]
    }
   ],
   "source": [
    "import calendar\n",
    "year = 2025\n",
    "num_of_col = 4\n",
    "print(calendar.calendar(year, num_of_col))\n",
    "print(\"Is 2025 a leap year?\", calendar.isleap(2025))"
   ]
  },
  {
   "cell_type": "code",
   "execution_count": null,
   "id": "58a5e6c0-f386-45b3-9280-08bfb98e1361",
   "metadata": {},
   "outputs": [],
   "source": []
  }
 ],
 "metadata": {
  "kernelspec": {
   "display_name": "Python 3 (ipykernel)",
   "language": "python",
   "name": "python3"
  },
  "language_info": {
   "codemirror_mode": {
    "name": "ipython",
    "version": 3
   },
   "file_extension": ".py",
   "mimetype": "text/x-python",
   "name": "python",
   "nbconvert_exporter": "python",
   "pygments_lexer": "ipython3",
   "version": "3.12.3"
  }
 },
 "nbformat": 4,
 "nbformat_minor": 5
}
